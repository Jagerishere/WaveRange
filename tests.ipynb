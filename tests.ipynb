{
 "cells": [
  {
   "cell_type": "code",
   "execution_count": 1,
   "id": "05d138d6-6a3c-46b8-afca-383c956ddacb",
   "metadata": {
    "editable": true,
    "slideshow": {
     "slide_type": ""
    },
    "tags": []
   },
   "outputs": [],
   "source": [
    "from functools import wraps\n",
    "from pathlib import Path\n",
    "from typing import Union, List\n",
    "import os\n",
    "import json\n",
    "from multiprocessing import Pool\n",
    "from pprint import pprint\n",
    "\n",
    "import numpy as np\n",
    "import openfoamparser_mai as Ofpp\n",
    "import pyvista\n",
    "import h5py"
   ]
  },
  {
   "cell_type": "code",
   "execution_count": 2,
   "id": "662bedc1-10de-493d-921f-4a9b0471ab87",
   "metadata": {},
   "outputs": [],
   "source": [
    "def save_json(filename, data, save_path) -> None:\n",
    "    \"\"\"Cохраняет json\"\"\"\n",
    "    file_path = save_path / Path(filename)\n",
    "    with open(file_path, 'w', encoding=\"utf8\") as f:\n",
    "        json.dump(data, f)\n",
    "\n",
    "\n",
    "def save_json_in_chunks(filename, data, save_path, chunk_size=1000):\n",
    "    full_path = os.path.join(save_path, filename)\n",
    "    with open(full_path, 'w') as file:\n",
    "        file.write('[')\n",
    "        for i, item in enumerate(data):\n",
    "            json_str = json.dumps(item)\n",
    "            file.write(json_str)\n",
    "            if i < len(data) - 1:\n",
    "                file.write(',\\n')\n",
    "            if i % chunk_size == 0 and i != 0:\n",
    "                file.flush()  # Flush data to disk periodically\n",
    "        file.write(']')\n",
    "\n",
    "\n",
    "# The wrapper function for multiprocessing\n",
    "def save_json_in_chunks_wrapper(args):\n",
    "    save_json_in_chunks(*args)\n",
    "\n",
    "\n",
    "def json_streaming_writer(filepath, data_func, data_args):\n",
    "    \"\"\"Write JSON data to a file using a generator to minimize memory usage.\"\"\"\n",
    "    data_gen = data_func(*data_args)\n",
    "    try:\n",
    "        with open(filepath, 'w') as file:\n",
    "            print(f\"writing {filepath}\")\n",
    "            file.write('[')\n",
    "            for i, item in enumerate(data_gen):\n",
    "                if i != 0:  # Add a comma before all but the first item\n",
    "                    file.write(',')\n",
    "                json.dump(item, file)\n",
    "            file.write(']')\n",
    "        print(f\"Finished writing {filepath}\")\n",
    "    except Exception as e:\n",
    "        print(f\"Failed to write {filepath}: {str(e)}\") \n",
    "\n",
    "\n",
    "def create_nodes_gen(mesh_bin):\n",
    "    \"\"\"Generator for nodes.\"\"\"\n",
    "    for point in mesh_bin.points:\n",
    "        yield {\n",
    "            'X': point[0],\n",
    "            'Y': point[1],\n",
    "            'Z': point[2]\n",
    "        }\n",
    "\n",
    "\n",
    "def create_faces_gen(mesh_bin):\n",
    "    \"\"\"Generator for faces.\"\"\"\n",
    "    for face in mesh_bin.faces:\n",
    "        yield list(face)\n",
    "\n",
    "\n",
    "def create_elements_gen(mesh_bin, p, u, c):\n",
    "    \"\"\"Generator for elements.\"\"\"\n",
    "    for i, cell in enumerate(mesh_bin.cell_faces):\n",
    "        yield {\n",
    "            'Faces': cell,\n",
    "            'Pressure': p[i],\n",
    "            'Velocity': {\n",
    "                'X': u[i][0],\n",
    "                'Y': u[i][1],\n",
    "                'Z': u[i][2]\n",
    "            },\n",
    "            'VelocityModule': np.linalg.norm(u[i]),\n",
    "            'Position': {\n",
    "                'X': c[i][0],\n",
    "                'Y': c[i][1],\n",
    "                'Z': c[i][2]\n",
    "            }\n",
    "        }\n",
    "\n",
    "\n",
    "def create_surfaces_gen(surfaces):\n",
    "    \"\"\"Generator for surfaces.\"\"\"\n",
    "    for surface in surfaces:\n",
    "        yield surface\n",
    "\n",
    "\n",
    "def _face_center_position(points: list, mesh: Ofpp.FoamMesh) -> list:\n",
    "    vertecis = [mesh.points[p] for p in points]\n",
    "    vertecis = np.array(vertecis)\n",
    "    return list(vertecis.mean(axis=0))"
   ]
  },
  {
   "cell_type": "code",
   "execution_count": 3,
   "id": "38c842b1-14a1-420e-a220-7655bd49013c",
   "metadata": {
    "editable": true,
    "slideshow": {
     "slide_type": ""
    },
    "tags": []
   },
   "outputs": [],
   "source": [
    "def process_computational_domain(solver_path: Union[str, os.PathLike, Path],\n",
    "                                 save_path: Union[str, os.PathLike, Path],\n",
    "                                 p: np.ndarray,\n",
    "                                 u: np.ndarray,\n",
    "                                 c: np.ndarray,\n",
    "                                 surface_name: str) -> None:\n",
    "    \"\"\"Сохранение геометрии расчетной области в виде json файла с полями:\n",
    "    'Nodes' - List[x: float, y: float, z:float], \n",
    "    'Faces' - List [List[int]], \n",
    "    'Elements' - List [Dict{Faces: List[int],\n",
    "                            Pressure: float,\n",
    "                            Velocity: List[float],\n",
    "                            VelocityModule: float,\n",
    "                            Position: List[float]}\n",
    "                            ], \n",
    "    'Surfaces' - List[\n",
    "                    Tuple[Surface_name: str, \n",
    "                    List[Dict{ParentElementID: int,\n",
    "                              ParentFaceId: int,\n",
    "                              Position: List[float]}]\n",
    "                    ]\n",
    "\n",
    "    Args:\n",
    "        solver_path (Union[str, os.PathLike, Path]): Путь до папки с расчетом.\n",
    "        save_path (Union[str, os.PathLike, Path]): Путь для сохранения итогового json.\n",
    "        p (np.ndarray): Поле давления.\n",
    "        u (np.ndarray): Поле скоростей.\n",
    "        c (np.ndarray): Центры ячеек.\n",
    "        surface_name (str): Имя для поверхности.\n",
    "    \"\"\"\n",
    "    \n",
    "    # Step 0: parse mesh and scale vertices\n",
    "    mesh_bin = Ofpp.FoamMesh(solver_path )\n",
    "\n",
    "    # Step I: compute TFemFace_Surface\n",
    "    domain_names = [\"obstacle\".encode('ascii')]\n",
    "    surfaces = []\n",
    "\n",
    "    for i, domain_name in enumerate(domain_names):\n",
    "        bound_cells = list(mesh_bin.boundary_cells(domain_name))\n",
    "\n",
    "        boundary_faces = []\n",
    "        boundary_faces_cell_ids = []\n",
    "        for bc_id in bound_cells:\n",
    "            faces = mesh_bin.cell_faces[bc_id]\n",
    "            for f in faces:\n",
    "                if mesh_bin.is_face_on_boundary(f, domain_name):\n",
    "                    boundary_faces.append(f)\n",
    "                    boundary_faces_cell_ids.append(bc_id)\n",
    "\n",
    "        f_b_set = set(zip(boundary_faces, boundary_faces_cell_ids))\n",
    "\n",
    "        body_faces = []\n",
    "        for f, b in f_b_set:\n",
    "            try:\n",
    "                position = _face_center_position(mesh_bin.faces[f], mesh_bin)\n",
    "                d = {'ParentElementID': b,\n",
    "                    'ParentFaceId': f,\n",
    "                    'Position': {'X': position[0], 'Y': position[1], 'Z': position[2]}\n",
    "                    }\n",
    "                body_faces.append(d)\n",
    "            except IndexError:\n",
    "                print(f'Indexes for points: {f} is not valid!')\n",
    "\n",
    "        surfaces.append({'Item1': surface_name,\n",
    "                'Item2': body_faces}) \n",
    "    \n",
    "    # Define file paths\n",
    "    nodes_path = os.path.join(save_path, 'Nodes.json')\n",
    "    faces_path = os.path.join(save_path, 'Faces.json')\n",
    "    elements_path = os.path.join(save_path, 'Elements.json')\n",
    "    surfaces_path = os.path.join(save_path, 'Surfaces.json')\n",
    "\n",
    "    # Prepare arguments for the multiprocessing function\n",
    "    \n",
    "    tasks = [\n",
    "    (nodes_path, create_nodes_gen, (mesh_bin,)),\n",
    "    (faces_path, create_faces_gen, (mesh_bin,)),\n",
    "    (elements_path, create_elements_gen, (mesh_bin, p, u, c)),\n",
    "    (surfaces_path, create_surfaces_gen, (surfaces,))\n",
    "        ]\n",
    "\n",
    "    # Use multiprocessing pool\n",
    "    with Pool() as pool:\n",
    "        pool.starmap(json_streaming_writer, tasks)"
   ]
  },
  {
   "cell_type": "markdown",
   "id": "9bf82443-5618-43e9-9d5e-8399a7f2d27d",
   "metadata": {
    "editable": true,
    "slideshow": {
     "slide_type": ""
    },
    "tags": []
   },
   "source": [
    "Пример загрузки данных о поле давлений на поверхности тела в Numpy формате"
   ]
  },
  {
   "cell_type": "code",
   "execution_count": 4,
   "id": "bc77ba3c-de2d-459d-a595-bd15d7922f5f",
   "metadata": {
    "editable": true,
    "slideshow": {
     "slide_type": ""
    },
    "tags": []
   },
   "outputs": [],
   "source": [
    "def pressure_field_on_surface(solver_path: Union[str, os.PathLike, Path],\n",
    "                                 p: np.ndarray,\n",
    "                                 surface_name: str = 'Surface') -> None:\n",
    "    \"\"\"Поле давлений на поверхности тела:\n",
    "    'Nodes' - List[x: float, y: float, z:float], \n",
    "    'Faces' - List [List[int]], \n",
    "    'Elements' - List [Dict{Faces: List[int],\n",
    "                            Pressure: float,\n",
    "                            Velocity: List[float],\n",
    "                            VelocityModule: float,\n",
    "                            Position: List[float]}\n",
    "                            ], \n",
    "    'Surfaces' - List[\n",
    "                    Tuple[Surface_name: str, \n",
    "                    List[Dict{ParentElementID: int,\n",
    "                              ParentFaceId: int,\n",
    "                              Position: List[float]}]\n",
    "                    ]\n",
    "\n",
    "    Args:\n",
    "        solver_path (Union[str, os.PathLike, Path]): Путь до папки с расчетом.\n",
    "        p (np.ndarray): Поле давления.\n",
    "        surface_name (str): Имя для поверхности.\n",
    "    \"\"\"\n",
    "    \n",
    "    # Step 0: parse mesh and scale vertices\n",
    "    mesh_bin = Ofpp.FoamMesh(solver_path )\n",
    "\n",
    "    # Step I: compute TFemFace_Surface\n",
    "    domain_names = [\"obstacle\".encode('ascii')]\n",
    "    surfaces = []\n",
    "\n",
    "    for i, domain_name in enumerate(domain_names):\n",
    "        bound_cells = list(mesh_bin.boundary_cells(domain_name))\n",
    "\n",
    "        boundary_faces = []\n",
    "        boundary_faces_cell_ids = []\n",
    "        for bc_id in bound_cells:\n",
    "            faces = mesh_bin.cell_faces[bc_id]\n",
    "            for f in faces:\n",
    "                if mesh_bin.is_face_on_boundary(f, domain_name):\n",
    "                    boundary_faces.append(f)\n",
    "                    boundary_faces_cell_ids.append(bc_id)\n",
    "\n",
    "        f_b_set = set(zip(boundary_faces, boundary_faces_cell_ids))\n",
    "\n",
    "        body_faces = []\n",
    "        for f, b in f_b_set:\n",
    "            try:\n",
    "                position = _face_center_position(mesh_bin.faces[f], mesh_bin)\n",
    "                d = {'ParentElementID': b,\n",
    "                    'ParentFaceId': f,\n",
    "                    'CentrePosition': {'X': position[0], 'Y': position[1], 'Z': position[2]},\n",
    "                    'PressureValue': p[b]\n",
    "                    }\n",
    "                body_faces.append(d)\n",
    "            except IndexError:\n",
    "                print(f'Indexes for points: {f} is not valid!')\n",
    "\n",
    "        surfaces.append({'Item1': surface_name,\n",
    "                'Item2': body_faces}) \n",
    "        \n",
    "\n",
    "        return surfaces"
   ]
  },
  {
   "cell_type": "code",
   "execution_count": 12,
   "id": "b37a8d44-9d3b-47d1-af55-4094defb3cf7",
   "metadata": {
    "editable": true,
    "slideshow": {
     "slide_type": ""
    },
    "tags": []
   },
   "outputs": [],
   "source": [
    "PATH_TO_CASE = 'data_wage/low_dim/vel3.04040404040404'\n",
    "END_TIME = '0.02'"
   ]
  },
  {
   "cell_type": "code",
   "execution_count": 13,
   "id": "31907db7-2632-4de7-833c-8898fc1590ad",
   "metadata": {},
   "outputs": [],
   "source": [
    "base_path = Path(PATH_TO_CASE)\n",
    "time_path = base_path / Path(END_TIME)\n",
    "p_path = time_path / Path('p')\n",
    "p = Ofpp.parse_internal_field(p_path)"
   ]
  },
  {
   "cell_type": "code",
   "execution_count": 14,
   "id": "819616c4-bf59-4c73-bb3e-de06465ade05",
   "metadata": {},
   "outputs": [],
   "source": [
    "surface = pressure_field_on_surface(base_path, p)"
   ]
  },
  {
   "cell_type": "code",
   "execution_count": 25,
   "id": "00f84896-4a7c-4e8d-b499-f85ba3811178",
   "metadata": {
    "editable": true,
    "slideshow": {
     "slide_type": ""
    },
    "tags": []
   },
   "outputs": [
    {
     "name": "stdout",
     "output_type": "stream",
     "text": [
      "'ParentElementID'\n"
     ]
    }
   ],
   "source": [
    "for s in surface[0]['Item2'][0]:\n",
    "    pprint(s)\n",
    "    break"
   ]
  },
  {
   "cell_type": "code",
   "execution_count": 16,
   "id": "fb3aaaaf-a15c-425e-94a0-5bd36f439a32",
   "metadata": {
    "editable": true,
    "slideshow": {
     "slide_type": ""
    },
    "tags": []
   },
   "outputs": [],
   "source": [
    "with h5py.File(\"first_h5.hdf5\", \"w\") as f:\n",
    "    dset = f.create_dataset(\"h5file\", data = p, dtype = 'i')"
   ]
  },
  {
   "cell_type": "code",
   "execution_count": 32,
   "id": "b355dc89-a7f8-42fa-8b7e-5904fa90447a",
   "metadata": {
    "editable": true,
    "scrolled": true,
    "slideshow": {
     "slide_type": ""
    },
    "tags": []
   },
   "outputs": [
    {
     "data": {
      "text/plain": [
       "[{'ParentElementID': 34,\n",
       "  'ParentFaceId': 169,\n",
       "  'CentrePosition': {'X': -0.137178, 'Y': 0.04572, 'Z': -0.005},\n",
       "  'PressureValue': 2.54682},\n",
       " {'ParentElementID': 27,\n",
       "  'ParentFaceId': 162,\n",
       "  'CentrePosition': {'X': 0.13716, 'Y': 0.036751911235000004, 'Z': 0.0},\n",
       "  'PressureValue': 1.82475},\n",
       " {'ParentElementID': 33,\n",
       "  'ParentFaceId': 168,\n",
       "  'CentrePosition': {'X': -0.137178, 'Y': 0.01524, 'Z': -0.005},\n",
       "  'PressureValue': 2.38182},\n",
       " {'ParentElementID': 26,\n",
       "  'ParentFaceId': 161,\n",
       "  'CentrePosition': {'X': 0.10668, 'Y': 0.02858481985, 'Z': 0.0},\n",
       "  'PressureValue': 1.61031},\n",
       " {'ParentElementID': 28,\n",
       "  'ParentFaceId': 163,\n",
       "  'CentrePosition': {'X': 0.16763999999999998,\n",
       "   'Y': 0.044919002619999995,\n",
       "   'Z': 0.0},\n",
       "  'PressureValue': 1.9403},\n",
       " {'ParentElementID': 32,\n",
       "  'ParentFaceId': 167,\n",
       "  'CentrePosition': {'X': 0.28956000000000004, 'Y': 0.07758736816, 'Z': 0.0},\n",
       "  'PressureValue': 2.26735},\n",
       " {'ParentElementID': 25,\n",
       "  'ParentFaceId': 160,\n",
       "  'CentrePosition': {'X': 0.07619999999999999, 'Y': 0.020417728465, 'Z': 0.0},\n",
       "  'PressureValue': 1.27539},\n",
       " {'ParentElementID': 29,\n",
       "  'ParentFaceId': 164,\n",
       "  'CentrePosition': {'X': 0.19811999999999996, 'Y': 0.053086094005, 'Z': 0.0},\n",
       "  'PressureValue': 2.01852},\n",
       " {'ParentElementID': 31,\n",
       "  'ParentFaceId': 166,\n",
       "  'CentrePosition': {'X': 0.25908, 'Y': 0.069420276775, 'Z': 0.0},\n",
       "  'PressureValue': 2.17168},\n",
       " {'ParentElementID': 30,\n",
       "  'ParentFaceId': 165,\n",
       "  'CentrePosition': {'X': 0.2286, 'Y': 0.06125318539, 'Z': 0.0},\n",
       "  'PressureValue': 2.09109}]"
      ]
     },
     "execution_count": 32,
     "metadata": {},
     "output_type": "execute_result"
    }
   ],
   "source": [
    "surface[0]['Item2']"
   ]
  },
  {
   "cell_type": "code",
   "execution_count": 51,
   "id": "fbb5b7ce-d29f-4e98-be17-b9db70995ebe",
   "metadata": {},
   "outputs": [],
   "source": [
    "x = surface[0]['Item2'][0]\n",
    "sur_item2 =  surface[0]['Item2']"
   ]
  },
  {
   "cell_type": "code",
   "execution_count": 68,
   "id": "c693d5f5-a159-4ae7-873c-d2546e9fd4aa",
   "metadata": {
    "editable": true,
    "slideshow": {
     "slide_type": ""
    },
    "tags": []
   },
   "outputs": [],
   "source": [
    "\n",
    "PEID = [x['ParentElementID'] for x in sur_item2]\n",
    "PFID = [x['ParentElementID'] for x in sur_item2]\n",
    "PV =   [x['PressureValue'] for x in sur_item2]\n",
    "X = [x['CentrePosition']['X'] for x in sur_item2]\n",
    "Y = [x['CentrePosition']['Y'] for x in sur_item2]\n",
    "Z = [x['CentrePosition']['Z'] for x in sur_item2]\n"
   ]
  },
  {
   "cell_type": "code",
   "execution_count": 69,
   "id": "897a7573-64a3-4e44-ab5c-cd17f00b7d13",
   "metadata": {},
   "outputs": [],
   "source": [
    "matr = [PEID, PFID, PV, X, Y, Z]"
   ]
  },
  {
   "cell_type": "code",
   "execution_count": 70,
   "id": "f65aff8e-6224-446c-8fbb-50dfa9d7ecf2",
   "metadata": {},
   "outputs": [
    {
     "data": {
      "text/plain": [
       "[[34, 27, 33, 26, 28, 32, 25, 29, 31, 30],\n",
       " [34, 27, 33, 26, 28, 32, 25, 29, 31, 30],\n",
       " [2.54682,\n",
       "  1.82475,\n",
       "  2.38182,\n",
       "  1.61031,\n",
       "  1.9403,\n",
       "  2.26735,\n",
       "  1.27539,\n",
       "  2.01852,\n",
       "  2.17168,\n",
       "  2.09109],\n",
       " [-0.137178,\n",
       "  0.13716,\n",
       "  -0.137178,\n",
       "  0.10668,\n",
       "  0.16763999999999998,\n",
       "  0.28956000000000004,\n",
       "  0.07619999999999999,\n",
       "  0.19811999999999996,\n",
       "  0.25908,\n",
       "  0.2286],\n",
       " [0.04572,\n",
       "  0.036751911235000004,\n",
       "  0.01524,\n",
       "  0.02858481985,\n",
       "  0.044919002619999995,\n",
       "  0.07758736816,\n",
       "  0.020417728465,\n",
       "  0.053086094005,\n",
       "  0.069420276775,\n",
       "  0.06125318539],\n",
       " [-0.005, 0.0, -0.005, 0.0, 0.0, 0.0, 0.0, 0.0, 0.0, 0.0]]"
      ]
     },
     "execution_count": 70,
     "metadata": {},
     "output_type": "execute_result"
    }
   ],
   "source": [
    "matr"
   ]
  },
  {
   "cell_type": "code",
   "execution_count": 72,
   "id": "d2fd5bbd-89c2-4b8f-8c83-a56491b8ed90",
   "metadata": {
    "editable": true,
    "slideshow": {
     "slide_type": ""
    },
    "tags": []
   },
   "outputs": [],
   "source": [
    "\n",
    "matrix1 = matr\n",
    "\n",
    "hdf = h5py.File('test.hdf5', 'w')\n",
    "\n",
    "ds1 = hdf.create_dataset('ds1', data=matrix1, dtype=np.float64)\n",
    "\n",
    "ds1.attrs['ParentElementID'] = [PEID]\n",
    "# без понятия что это\n",
    "ds1.attrs['ParentFaceId'] = [PFID]\n",
    "# давление\n",
    "ds1.attrs['PressureValue'] = [PV]\n",
    "# nxyz (nx ny nz)\n",
    "ds1.attrs['nx'] = [X]\n",
    "ds1.attrs['ny'] = [Y]\n",
    "ds1.attrs['nz'] = [Z]\n",
    "\n",
    "hdf.close()"
   ]
  },
  {
   "cell_type": "code",
   "execution_count": null,
   "id": "b78392a3-570b-45d2-933e-77a32f4873c4",
   "metadata": {
    "editable": true,
    "slideshow": {
     "slide_type": ""
    },
    "tags": []
   },
   "outputs": [],
   "source": []
  },
  {
   "cell_type": "code",
   "execution_count": null,
   "id": "9cf5ac95-620e-4c2d-9572-ac2e2f14ad9c",
   "metadata": {
    "editable": true,
    "slideshow": {
     "slide_type": ""
    },
    "tags": []
   },
   "outputs": [],
   "source": []
  },
  {
   "cell_type": "code",
   "execution_count": null,
   "id": "d072f51a-d784-429e-97df-e76cc310db0a",
   "metadata": {},
   "outputs": [],
   "source": []
  }
 ],
 "metadata": {
  "kernelspec": {
   "display_name": "Python 3 (ipykernel)",
   "language": "python",
   "name": "python3"
  },
  "language_info": {
   "codemirror_mode": {
    "name": "ipython",
    "version": 3
   },
   "file_extension": ".py",
   "mimetype": "text/x-python",
   "name": "python",
   "nbconvert_exporter": "python",
   "pygments_lexer": "ipython3",
   "version": "3.10.11"
  }
 },
 "nbformat": 4,
 "nbformat_minor": 5
}
